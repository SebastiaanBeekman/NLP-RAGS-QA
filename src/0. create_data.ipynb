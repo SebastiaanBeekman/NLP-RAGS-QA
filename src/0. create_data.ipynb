{
 "cells": [
  {
   "cell_type": "markdown",
   "metadata": {},
   "source": [
    "1. Use contriever to retrieve relevant documents per query; k = 1, 3, and 5\n",
    "  - Embed all documents in the corpus beforehand\n",
    "  - Embed the query during inference\n",
    "  - Retrieve the top k documents using cosine similarity\n",
    "2. Use the retrieved documents as context for the query (May need cleaning?)\n",
    "  - Cleaning: stop words, stemming, tokenization, etc. \n",
    "  - Concatenate the retrieved documents into a single string (are other methods better?)\n",
    "3. Provide the query and conext to a LLM to generate the answer (LLM from Huggingface)\n",
    "4. Compare the answer to the ground truth using exact match (or other metric(s))\n",
    "  - Exact match: answer == ground_truth\n",
    "  - Other metrics: ROUGE, BertScore, BLEU, etc."
   ]
  },
  {
   "cell_type": "code",
   "execution_count": 1,
   "metadata": {},
   "outputs": [],
   "source": [
    "import json"
   ]
  },
  {
   "cell_type": "code",
   "execution_count": 7,
   "metadata": {},
   "outputs": [],
   "source": [
    "# Utility functions\n",
    "def read_json(file_path: str):\n",
    "    with open(file_path, 'r') as reader:\n",
    "        data = json.load(reader)\n",
    "    return data\n",
    "\n",
    "def write_json(data, file_path: str):\n",
    "    with open(file_path, 'w') as writer:\n",
    "        json.dump(data, writer)"
   ]
  },
  {
   "cell_type": "code",
   "execution_count": 3,
   "metadata": {},
   "outputs": [],
   "source": [
    "dev = read_json('../data/dev.json')"
   ]
  },
  {
   "cell_type": "code",
   "execution_count": 8,
   "metadata": {},
   "outputs": [],
   "source": [
    "# save the first 1200 samples from the dev set to a json file called dev_1200.json\n",
    "file_path = '../data/dev_1200.json'\n",
    "write_json(dev[:1200], file_path)"
   ]
  }
 ],
 "metadata": {
  "kernelspec": {
   "display_name": "raspy_env",
   "language": "python",
   "name": "python3"
  },
  "language_info": {
   "codemirror_mode": {
    "name": "ipython",
    "version": 3
   },
   "file_extension": ".py",
   "mimetype": "text/x-python",
   "name": "python",
   "nbconvert_exporter": "python",
   "pygments_lexer": "ipython3",
   "version": "3.12.1"
  }
 },
 "nbformat": 4,
 "nbformat_minor": 2
}
