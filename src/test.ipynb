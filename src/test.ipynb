{
 "cells": [
  {
   "cell_type": "code",
   "execution_count": 20,
   "metadata": {},
   "outputs": [],
   "source": [
    "import json"
   ]
  },
  {
   "cell_type": "code",
   "execution_count": 18,
   "metadata": {},
   "outputs": [],
   "source": [
    "# Load data\n",
    "corpus = json.load(open('../data/corpus.json')) # Key - title, text\n",
    "train = json.load(open('../data/train.json')) # _id, type, question, context, supporting_facts, evidences, answer\n",
    "dev = json.load(open('../data/dev.json')) # _id, type, question, context, supporting_facts, evidences, answer"
   ]
  },
  {
   "cell_type": "code",
   "execution_count": 1,
   "metadata": {},
   "outputs": [
    {
     "name": "stderr",
     "output_type": "stream",
     "text": [
      "/Users/sebastiaanbeekman/.pyenv/versions/3.12.1/envs/raspy_env/lib/python3.12/site-packages/tqdm/auto.py:21: TqdmWarning: IProgress not found. Please update jupyter and ipywidgets. See https://ipywidgets.readthedocs.io/en/stable/user_install.html\n",
      "  from .autonotebook import tqdm as notebook_tqdm\n",
      "Downloading data: 100%|██████████| 13.9G/13.9G [20:44<00:00, 11.2MB/s]\n",
      "Generating train split: 0 examples [00:00, ? examples/s]"
     ]
    }
   ],
   "source": [
    "from datasets import load_dataset\n",
    "corpus = load_dataset('florin-hf/wiki_dump2018_nq_open')"
   ]
  }
 ],
 "metadata": {
  "kernelspec": {
   "display_name": "raspy_env",
   "language": "python",
   "name": "python3"
  },
  "language_info": {
   "codemirror_mode": {
    "name": "ipython",
    "version": 3
   },
   "file_extension": ".py",
   "mimetype": "text/x-python",
   "name": "python",
   "nbconvert_exporter": "python",
   "pygments_lexer": "ipython3",
   "version": "3.12.1"
  }
 },
 "nbformat": 4,
 "nbformat_minor": 2
}
